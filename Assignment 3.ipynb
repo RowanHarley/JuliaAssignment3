{
 "cells": [
  {
   "cell_type": "markdown",
   "metadata": {},
   "source": [
    "# Question 1"
   ]
  },
  {
   "cell_type": "markdown",
   "metadata": {},
   "source": [
    "![](FIN30270_Asst3_Pt1.png)"
   ]
  },
  {
   "cell_type": "markdown",
   "metadata": {},
   "source": [
    "## Part a"
   ]
  },
  {
   "cell_type": "code",
   "execution_count": 1,
   "metadata": {},
   "outputs": [],
   "source": [
    "using Random, Statistics, Ipopt, JuMP,LinearAlgebra, Distributions"
   ]
  },
  {
   "cell_type": "code",
   "execution_count": 22,
   "metadata": {},
   "outputs": [],
   "source": [
    "nsim = 1000;\n",
    "w = -100 * log.(rand(Float64, (nsim)));\n",
    "\n",
    "modeli = Model(Ipopt.Optimizer)\n",
    "set_silent(modeli)\n",
    "@variable(modeli, 0 <= x)\n",
    "@variable(modeli, 0 <= u[1:nsim])\n",
    "for i in 1:nsim\n",
    "    @constraint(modeli, w[i] - x <= u[i])\n",
    "end\n",
    "@objective(modeli, Max, 1.5 * (mean(w) - mean(u)) - x)\n",
    "optimize!(modeli)"
   ]
  },
  {
   "cell_type": "code",
   "execution_count": 23,
   "metadata": {},
   "outputs": [
    {
     "name": "stdout",
     "output_type": "stream",
     "text": [
      "Optimal number of newspapers to sell is 40.115058713432596\n",
      "Expected profit is 9.380201334037793"
     ]
    }
   ],
   "source": [
    "print(\"Optimal number of newspapers to sell is \", value(x))\n",
    "print(\"\\nExpected profit is \", 1.5 * (mean(w) - mean(value.(u))) - value(x))"
   ]
  },
  {
   "cell_type": "markdown",
   "metadata": {},
   "source": [
    "## Part b"
   ]
  },
  {
   "cell_type": "code",
   "execution_count": 4,
   "metadata": {},
   "outputs": [
    {
     "data": {
      "text/plain": [
       "40.546510816935076"
      ]
     },
     "metadata": {},
     "output_type": "display_data"
    }
   ],
   "source": [
    "model = Model(Ipopt.Optimizer)\n",
    "set_silent(model)\n",
    "@variable(model, 0 <= x)\n",
    "@objective(model, Max, 1.5 * (100 * (1 - exp(-x/100))) - x) # lambda = 100\n",
    "optimize!(model)\n",
    "xAnalytical = value(x)"
   ]
  },
  {
   "cell_type": "markdown",
   "metadata": {},
   "source": [
    "## Part c"
   ]
  },
  {
   "cell_type": "code",
   "execution_count": 13,
   "metadata": {},
   "outputs": [
    {
     "data": {
      "text/plain": [
       "39.879040128374264"
      ]
     },
     "metadata": {},
     "output_type": "display_data"
    }
   ],
   "source": [
    "nsim = 10000;\n",
    "w = -50 * log.(rand(Float64, (nsim)));\n",
    "\n",
    "model2 = Model(Ipopt.Optimizer)\n",
    "set_silent(model2)\n",
    "@variable(model2, 0 <= x)\n",
    "@variable(model2, 0 <= u[1:nsim])\n",
    "for i in 1:nsim\n",
    "    @constraint(model2, w[i] - x <= u[i])\n",
    "end\n",
    "@objective(model2, Max, 1.5 * (mean(w) - mean(u)) - x)\n",
    "optimize!(model2)\n",
    "x = 2 * value(x)"
   ]
  },
  {
   "cell_type": "code",
   "execution_count": 26,
   "metadata": {},
   "outputs": [
    {
     "ename": "ErrorException",
     "evalue": "Unable to use `x2::VariableRef` as the upper bound of a variable. The upper bound must be a constant value of type `::Float64`. You cannot use JuMP variables or expressions.",
     "output_type": "error",
     "traceback": [
      "Unable to use `x2::VariableRef` as the upper bound of a variable. The upper bound must be a constant value of type `::Float64`. You cannot use JuMP variables or expressions.\n",
      "\n",
      "Stacktrace:\n",
      " [1] error(s::String)\n",
      "   @ Base .\\error.jl:35\n",
      " [2] _to_value(::Type{Float64}, value::VariableRef, msg::String)\n",
      "   @ JuMP C:\\Users\\rowan\\.julia\\packages\\JuMP\\HjlGr\\src\\variables.jl:1769\n",
      " [3] _moi_constrain_variable(moi_backend::MathOptInterface.Utilities.CachingOptimizer{MathOptInterface.Bridges.LazyBridgeOptimizer{Ipopt.Optimizer}, MathOptInterface.Utilities.UniversalFallback{MathOptInterface.Utilities.Model{Float64}}}, index::MathOptInterface.VariableIndex, info::VariableInfo{Int64, VariableRef, Float64, Float64}, ::Type{Float64})\n",
      "   @ JuMP C:\\Users\\rowan\\.julia\\packages\\JuMP\\HjlGr\\src\\variables.jl:1792\n",
      " [4] _moi_add_variable(moi_backend::MathOptInterface.Utilities.CachingOptimizer{MathOptInterface.Bridges.LazyBridgeOptimizer{Ipopt.Optimizer}, MathOptInterface.Utilities.UniversalFallback{MathOptInterface.Utilities.Model{Float64}}}, model::Model, v::ScalarVariable{Int64, VariableRef, Float64, Float64}, name::String)\n",
      "   @ JuMP C:\\Users\\rowan\\.julia\\packages\\JuMP\\HjlGr\\src\\variables.jl:1747\n",
      " [5] add_variable(model::Model, v::ScalarVariable{Int64, VariableRef, Float64, Float64}, name::String)\n",
      "   @ JuMP C:\\Users\\rowan\\.julia\\packages\\JuMP\\HjlGr\\src\\variables.jl:1736\n",
      " [6] macro expansion\n",
      "   @ C:\\Users\\rowan\\.julia\\packages\\JuMP\\HjlGr\\src\\macros\\@variable.jl:278 [inlined]\n",
      " [7] macro expansion\n",
      "   @ C:\\Users\\rowan\\.julia\\packages\\JuMP\\HjlGr\\src\\macros.jl:393 [inlined]\n",
      " [8] top-level scope\n",
      "   @ c:\\Users\\rowan\\OneDrive\\Documents\\Advanced Risk Management\\Assignment 3\\Assignment 3.ipynb:9"
     ]
    }
   ],
   "source": [
    "nsim = 5000\n",
    "w1 = -50 * log.(rand(Float64, (nsim)));\n",
    "w2 = -50 * log.(rand(Float64, (nsim)));\n",
    "\n",
    "model2 = Model(Ipopt.Optimizer)\n",
    "set_silent(model2)\n",
    "\n",
    "@variable(model2, 0 <= x2)\n",
    "@variable(model2, 0 <= x1)\n",
    "@variable(model2, 0 <= u[1:nsim])\n",
    "@variable(model2, 0 <= v[1:nsim])\n",
    "for i in 1:nsim\n",
    "    @constraint(model2, w1[i] - x1 <= u[i])\n",
    "    @constraint(model2, w2[i] - (x2 - x1) <= v[i])\n",
    "end\n",
    "@objective(model2, Max, 1.5 * (mean(w1) - mean(u)) - x1 + 1.5 * (mean(w2) - mean(v)) - (x2 - x1))\n",
    "optimize!(model2)\n",
    "print(\"Got x1 at \", value(x1), \" and x2 at \", value(x2))"
   ]
  },
  {
   "cell_type": "markdown",
   "metadata": {},
   "source": [
    "## Part d"
   ]
  },
  {
   "cell_type": "code",
   "execution_count": 14,
   "metadata": {},
   "outputs": [
    {
     "name": "stdout",
     "output_type": "stream",
     "text": [
      "W_1 and W_2 are found to be 20.27325541158411"
     ]
    }
   ],
   "source": [
    "model = Model(Ipopt.Optimizer)\n",
    "set_silent(model)\n",
    "@variable(model, 0 <= x)\n",
    "@objective(model, Max, (1.5 * (50 * (1 - exp(-x/50))) - x)) # lambda = 50\n",
    "optimize!(model)\n",
    "xAnalytical = 2 * value(x) # Multiply by 2 as we have 2 half days\n",
    "print(\"W_1 and W_2 are found to be \", value(x))"
   ]
  },
  {
   "cell_type": "markdown",
   "metadata": {},
   "source": [
    "## Part e"
   ]
  },
  {
   "cell_type": "code",
   "execution_count": 7,
   "metadata": {},
   "outputs": [],
   "source": []
  },
  {
   "cell_type": "markdown",
   "metadata": {},
   "source": [
    "# Question 2"
   ]
  },
  {
   "cell_type": "code",
   "execution_count": 8,
   "metadata": {},
   "outputs": [],
   "source": [
    "mu_2m = 0.08 * 2/12\n",
    "sigma_2m = 0.2 * sqrt(2/12)\n",
    "nsim = 1000\n",
    "mu_ln = log(mu_2m^2/sqrt(mu_2m^2 + sigma_2m^2))\n",
    "sigma_ln = log(1 + mu_2m^2/sigma_2m^2)\n",
    "lnDist = rand(LogNormal(mu_ln, sigma_ln), (nsim))\n",
    "# rets = (1 + mu_2m).^(rand((-2, 0, 0, 2), (nsim)))  .* exp.(rand(Normal(mu_2m, sigma_2m^2), (nsim))) # uu, ud, du, dd\n",
    "# sqrt(var(rets)) * sqrt(12/2)\n",
    "\n",
    "\n",
    "rets = exp.((0.08 - 0.2^2/2) * 2/12 .+ 0.2 * rand(Normal(0, 2/12), (nsim))) .* exp.((0.08 - 0.2^2/2) .* 2/12 .+ 0.2 * rand(Normal(0, 2/12), (nsim))) .* exp.(rand(Normal(mu_2m, sigma_2m^2), (nsim)));"
   ]
  },
  {
   "cell_type": "code",
   "execution_count": 9,
   "metadata": {},
   "outputs": [
    {
     "data": {
      "text/plain": [
       "2-element Vector{Float64}:\n",
       "  1.000000005157373\n",
       " -5.157372923029508e-9"
      ]
     },
     "metadata": {},
     "output_type": "display_data"
    }
   ],
   "source": [
    "model2 = Model(Ipopt.Optimizer)\n",
    "set_silent(model2)\n",
    "@variable(model2, 0 <= w[1:2] <= 1)\n",
    "@constraint(model2, sum(w) == 1)\n",
    "@constraint(model2, w[1] * sqrt(var([x for x in rets if x < 1.04])) * sqrt(6) <= 0.1)\n",
    "@objective(model2, Max, w[1] * mean(rets))\n",
    "optimize!(model2)\n",
    "\n",
    "weights = value.(w)"
   ]
  },
  {
   "cell_type": "code",
   "execution_count": 10,
   "metadata": {},
   "outputs": [],
   "source": []
  }
 ],
 "metadata": {
  "kernelspec": {
   "display_name": "Julia 1.10.0",
   "language": "julia",
   "name": "julia-1.10"
  },
  "language_info": {
   "file_extension": ".jl",
   "mimetype": "application/julia",
   "name": "julia",
   "version": "1.10.0"
  }
 },
 "nbformat": 4,
 "nbformat_minor": 2
}

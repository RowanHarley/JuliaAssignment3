{
 "cells": [
  {
   "cell_type": "markdown",
   "metadata": {},
   "source": [
    "# Question 1"
   ]
  },
  {
   "cell_type": "markdown",
   "metadata": {},
   "source": [
    "![](FIN30270_Asst3_Pt1.png)"
   ]
  },
  {
   "cell_type": "code",
   "execution_count": 8,
   "metadata": {},
   "outputs": [],
   "source": [
    "using Random, Statistics, Ipopt, JuMP,LinearAlgebra, Distributions"
   ]
  },
  {
   "cell_type": "code",
   "execution_count": 2,
   "metadata": {},
   "outputs": [
    {
     "name": "stdout",
     "output_type": "stream",
     "text": [
      "\n",
      "******************************************************************************\n",
      "This program contains Ipopt, a library for large-scale nonlinear optimization.\n",
      " Ipopt is released as open source code under the Eclipse Public License (EPL).\n",
      "         For more information visit https://github.com/coin-or/Ipopt\n",
      "******************************************************************************\n",
      "\n"
     ]
    }
   ],
   "source": [
    "nsim = 1000;\n",
    "w = -100 * log.(rand(Float64, (nsim)));\n",
    "\n",
    "modeli = Model(Ipopt.Optimizer)\n",
    "set_silent(modeli)\n",
    "@variable(modeli, 0 <= x)\n",
    "@variable(modeli, 0 <= u[1:nsim])\n",
    "for i in 1:nsim\n",
    "    @constraint(modeli, w[i] - x <= u[i])\n",
    "end\n",
    "@objective(modeli, Max, 1.5 * (mean(w) - mean(u)) - x)\n",
    "optimize!(modeli)"
   ]
  },
  {
   "cell_type": "code",
   "execution_count": 3,
   "metadata": {},
   "outputs": [
    {
     "data": {
      "text/plain": [
       "40.5485383368778"
      ]
     },
     "metadata": {},
     "output_type": "display_data"
    }
   ],
   "source": [
    "x = value(x)"
   ]
  },
  {
   "cell_type": "markdown",
   "metadata": {},
   "source": [
    "## Part b"
   ]
  },
  {
   "cell_type": "code",
   "execution_count": 4,
   "metadata": {},
   "outputs": [
    {
     "data": {
      "text/plain": [
       "40.546510816935076"
      ]
     },
     "metadata": {},
     "output_type": "display_data"
    }
   ],
   "source": [
    "model = Model(Ipopt.Optimizer)\n",
    "set_silent(model)\n",
    "@variable(model, 0 <= x)\n",
    "@objective(model, Max, 1.5 * (100 * (1 - exp(-x/100))) - x) # lambda = 100\n",
    "optimize!(model)\n",
    "xAnalytical = value(x)"
   ]
  },
  {
   "cell_type": "markdown",
   "metadata": {},
   "source": [
    "## Part c"
   ]
  },
  {
   "cell_type": "code",
   "execution_count": 5,
   "metadata": {},
   "outputs": [
    {
     "data": {
      "text/plain": [
       "43.332853908647714"
      ]
     },
     "metadata": {},
     "output_type": "display_data"
    }
   ],
   "source": [
    "nsim = 1000;\n",
    "w = -50 * log.(rand(Float64, (nsim)));\n",
    "\n",
    "model2 = Model(Ipopt.Optimizer)\n",
    "set_silent(model2)\n",
    "@variable(model2, 0 <= x)\n",
    "@variable(model2, 0 <= u[1:nsim])\n",
    "for i in 1:nsim\n",
    "    @constraint(model2, w[i] - x <= u[i])\n",
    "end\n",
    "@objective(model2, Max, 1.5 * (mean(w) - mean(u)) - x)\n",
    "optimize!(model2)\n",
    "x = 2 * value(x)"
   ]
  },
  {
   "cell_type": "markdown",
   "metadata": {},
   "source": [
    "## Part d"
   ]
  },
  {
   "cell_type": "code",
   "execution_count": 6,
   "metadata": {},
   "outputs": [
    {
     "data": {
      "text/plain": [
       "40.54651082316822"
      ]
     },
     "metadata": {},
     "output_type": "display_data"
    }
   ],
   "source": [
    "model = Model(Ipopt.Optimizer)\n",
    "set_silent(model)\n",
    "@variable(model, 0 <= x)\n",
    "@objective(model, Max, (1.5 * (50 * (1 - exp(-x/50))) - x)) # lambda = 50\n",
    "optimize!(model)\n",
    "xAnalytical = 2 * value(x) # Multiply by 2 as we have 2 half days"
   ]
  },
  {
   "cell_type": "markdown",
   "metadata": {},
   "source": [
    "## Part e"
   ]
  },
  {
   "cell_type": "code",
   "execution_count": 7,
   "metadata": {},
   "outputs": [],
   "source": []
  },
  {
   "cell_type": "markdown",
   "metadata": {},
   "source": [
    "# Question 2"
   ]
  },
  {
   "cell_type": "code",
   "execution_count": 59,
   "metadata": {},
   "outputs": [],
   "source": [
    "mu_2m = 0.08 * 2/12\n",
    "sigma_2m = 0.2 * sqrt(2/12)\n",
    "nsim = 1000\n",
    "mu_ln = log(mu_2m^2/sqrt(mu_2m^2 + sigma_2m^2))\n",
    "sigma_ln = log(1 + mu_2m^2/sigma_2m^2)\n",
    "lnDist = rand(LogNormal(mu_ln, sigma_ln), (nsim))\n",
    "# rets = (1 + mu_2m).^(rand((-2, 0, 0, 2), (nsim)))  .* exp.(rand(Normal(mu_2m, sigma_2m^2), (nsim))) # uu, ud, du, dd\n",
    "# sqrt(var(rets)) * sqrt(12/2)\n",
    "\n",
    "\n",
    "rets = exp.((0.08 - 0.2^2/2) * 2/12 .+ 0.2 * rand(Normal(0, 2/12), (nsim))) .* exp.((0.08 - 0.2^2/2) .* 2/12 .+ 0.2 * rand(Normal(0, 2/12), (nsim))) .* exp.(rand(Normal(mu_2m, sigma_2m^2), (nsim)));"
   ]
  },
  {
   "cell_type": "code",
   "execution_count": 60,
   "metadata": {},
   "outputs": [
    {
     "data": {
      "text/plain": [
       "2-element Vector{Float64}:\n",
       "  1.0000000051612918\n",
       " -5.161291693932853e-9"
      ]
     },
     "metadata": {},
     "output_type": "display_data"
    }
   ],
   "source": [
    "model2 = Model(Ipopt.Optimizer)\n",
    "set_silent(model2)\n",
    "@variable(model2, 0 <= w[1:2] <= 1)\n",
    "@constraint(model2, sum(w) == 1)\n",
    "@constraint(model2, w[1] * sqrt(var([x for x in rets if x < 1.04])) * sqrt(6) <= 0.1)\n",
    "@objective(model2, Max, w[1] * mean(rets))\n",
    "optimize!(model2)\n",
    "\n",
    "weights = value.(w)"
   ]
  },
  {
   "cell_type": "code",
   "execution_count": null,
   "metadata": {},
   "outputs": [],
   "source": []
  }
 ],
 "metadata": {
  "kernelspec": {
   "display_name": "Julia 1.10.0",
   "language": "julia",
   "name": "julia-1.10"
  },
  "language_info": {
   "file_extension": ".jl",
   "mimetype": "application/julia",
   "name": "julia",
   "version": "1.10.0"
  }
 },
 "nbformat": 4,
 "nbformat_minor": 2
}
